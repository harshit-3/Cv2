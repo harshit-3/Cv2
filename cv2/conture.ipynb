{
 "cells": [
  {
   "cell_type": "code",
   "execution_count": 1,
   "metadata": {},
   "outputs": [],
   "source": [
    "import cv2\n",
    "import numpy as np"
   ]
  },
  {
   "cell_type": "code",
   "execution_count": 12,
   "metadata": {},
   "outputs": [
    {
     "name": "stdout",
     "output_type": "stream",
     "text": [
      "Total Contours 280\n"
     ]
    }
   ],
   "source": [
    "hand = cv2.imread('balls.png')\n",
    "handgrey = cv2.cvtColor(hand, cv2.COLOR_BGR2GRAY)\n",
    "ret, thresh = cv2.threshold(handgrey, 127,255, 0)\n",
    "contours, hierarchy = cv2.findContours(thresh, cv2.RETR_TREE, cv2.CHAIN_APPROX_NONE)\n",
    "print(\"Total Contours\",str(len(contours)))\n",
    "cv2.drawContours(hand, contours,-1, (0,255,0),3)\n",
    "cv2.imshow('image', handgrey)\n",
    "cv2.imshow('image', hand)\n",
    "\n",
    "cv2.waitKey(0)\n",
    "cv2.destroyAllWindows()"
   ]
  },
  {
   "cell_type": "code",
   "execution_count": 3,
   "metadata": {},
   "outputs": [],
   "source": [
    "#motion \n",
    "cap = cv2.VideoCapture('test.mp4')\n",
    "ret , frame = cap.read()\n",
    "ret , frame2 = cap.read()\n",
    "while cap.isOpened():\n",
    "    diff = cv2.absdiff(frame, frame2)\n",
    "    grey = cv2.cvtColor(diff, cv2.COLOR_BGR2GRAY)\n",
    "    blur = cv2.GaussianBlur(grey, (5,5), 0)\n",
    "    _, thresh = cv2.threshold(blur, 20,255,cv2.THRESH_BINARY)\n",
    "    dilated = cv2.dilate(thresh, None, iterations= 3)\n",
    "    contours, _ = cv2.findContours(dilated, cv2.RETR_TREE, cv2.CHAIN_APPROX_SIMPLE)\n",
    "    \n",
    "    for contour in contours:\n",
    "        (x, y, w, h) = cv2.boundingRect(contour)\n",
    "        \n",
    "        if cv2.contourArea(contour) < 450:\n",
    "            continue\n",
    "        cv2.rectangle(frame, (x,y), (x+w, y+h), (0,255,0), 2)\n",
    "        cv2.putText(frame, \"status: {}\".format(\"Movement\"), (10,20), cv2.FONT_HERSHEY_PLAIN, 1, (255,0,0),2)\n",
    "    \n",
    "    #cv2.drawContours(frame,contours, -1, (0,255,0),2)\n",
    "    cv2.imshow('feed', frame)\n",
    "    frame = frame2\n",
    "    ret, frame2 = cap.read()\n",
    "    \n",
    "    if cv2.waitKey(40) == 27:\n",
    "        break\n",
    "        \n",
    "cap.release()\n",
    "cv2.destroyAllWindows()\n",
    "    \n"
   ]
  },
  {
   "cell_type": "code",
   "execution_count": 9,
   "metadata": {},
   "outputs": [],
   "source": [
    "#To many conture on Image\n",
    "#Shape Dection\n",
    "img = cv2.imread(\"1.jpg\")\n",
    "imggrey = cv2.cvtColor(img, cv2.COLOR_BGR2GRAY)\n",
    "_, thresh = cv2.threshold(imggrey, 240,255, cv2.THRESH_BINARY)\n",
    "contures, _ = cv2.findContours(thresh, cv2.RETR_TREE, cv2.CHAIN_APPROX_NONE)\n",
    "\n",
    "for conture in contures:\n",
    "    approx = cv2.approxPolyDP(conture, 0.01*cv2.arcLength(conture,True), True)\n",
    "    cv2.drawContours(img, [approx], 0, (255,0,145),5)\n",
    "    \n",
    "    x = approx.ravel()[0]\n",
    "    y = approx.ravel()[1]\n",
    "    if len(approx) == 3:\n",
    "        cv2.putText(img,\"triange\",(x,y), cv2.FONT_HERSHEY_COMPLEX,0.5,(0,0,0),1)\n",
    "    elif len(approx) == 4:\n",
    "        cv2.putText(img,\"rectangle\",(x,y), cv2.FONT_HERSHEY_COMPLEX,0.5,(0,0,0),1)\n",
    "    elif len(approx) == 5:\n",
    "        cv2.putText(img,\"pentagon\",(x,y), cv2.FONT_HERSHEY_COMPLEX,0.5,(0,0,0),1)\n",
    "    else:\n",
    "        cv2.putText(img,\"ellipse\",(x,y), cv2.FONT_HERSHEY_COMPLEX,0.5,(0,0,0),1)\n",
    "cv2.imshow(\"image\", img)\n",
    "cv2.waitKey(0)\n",
    "cv2.destroyAllWindows()\n"
   ]
  },
  {
   "cell_type": "code",
   "execution_count": 8,
   "metadata": {},
   "outputs": [
    {
     "name": "stdout",
     "output_type": "stream",
     "text": [
      "(array([16, 16, 17, 17, 17], dtype=int64), array([65, 66, 65, 66, 67], dtype=int64))\n",
      "(array([13, 13], dtype=int64), array([182, 183], dtype=int64))\n"
     ]
    }
   ],
   "source": [
    "#face dection\n",
    "image = cv2.imread(\"2.jpg\")\n",
    "grayimg = cv2.cvtColor(image, cv2.COLOR_BGR2GRAY)\n",
    "template = cv2.imread(\"2-1.png\",0)\n",
    "template1 = cv2.imread(\"2-2.png\",0)\n",
    "\n",
    "w, h = template.shape[::-1]\n",
    "w1, h1 = template1.shape[::-1]\n",
    "res = cv2.matchTemplate(grayimg, template,cv2.TM_CCOEFF_NORMED)\n",
    "threshold = 0.6\n",
    "loc = np.where(res >= threshold)\n",
    "print(loc)\n",
    "res1 = cv2.matchTemplate(grayimg, template1,cv2.TM_CCOEFF_NORMED)\n",
    "threshold1 = 0.53\n",
    "loc1 = np.where(res1 >= threshold1)\n",
    "print(loc1)\n",
    "for pt in zip(*loc[::-1]):\n",
    "    cv2.rectangle(image,pt, (pt[0]+ w, pt[1]+h),(0,0,255),1)\n",
    "for pt1 in zip(*loc1[::-1]):\n",
    "    cv2.rectangle(image,pt1, (pt1[0]+ w1, pt1[1]+h1),(0,0,255),1)\n",
    "cv2.imshow(\"image\", image)\n",
    "cv2.waitKey(0)\n",
    "cv2.destroyAllWindows()"
   ]
  },
  {
   "cell_type": "code",
   "execution_count": null,
   "metadata": {},
   "outputs": [],
   "source": []
  }
 ],
 "metadata": {
  "kernelspec": {
   "display_name": "Python 3",
   "language": "python",
   "name": "python3"
  },
  "language_info": {
   "codemirror_mode": {
    "name": "ipython",
    "version": 3
   },
   "file_extension": ".py",
   "mimetype": "text/x-python",
   "name": "python",
   "nbconvert_exporter": "python",
   "pygments_lexer": "ipython3",
   "version": "3.8.3"
  }
 },
 "nbformat": 4,
 "nbformat_minor": 4
}
